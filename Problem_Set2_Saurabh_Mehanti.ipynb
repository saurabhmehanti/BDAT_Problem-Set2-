{
 "cells": [
  {
   "cell_type": "markdown",
   "id": "aee265ce",
   "metadata": {},
   "source": [
    "# Question 1"
   ]
  },
  {
   "cell_type": "code",
   "execution_count": null,
   "id": "568fe4be",
   "metadata": {},
   "outputs": [],
   "source": [
    "!pip install ipython-sql"
   ]
  },
  {
   "cell_type": "code",
   "execution_count": 1,
   "id": "383b7c04",
   "metadata": {},
   "outputs": [
    {
     "name": "stdout",
     "output_type": "stream",
     "text": [
      "\n",
      "****************************Question 1******************************\n",
      "\n",
      "displaying the latest updated value of a =  6\n"
     ]
    }
   ],
   "source": [
    "\n",
    "print(\"\\n****************************Question 1******************************\\n\")\n",
    "\n",
    "a = 0       #creates a variable 'a'\n",
    "def b():    #defines function b()\n",
    " global a   #creates a global variable 'a'\n",
    " a = c(a)   #calls another function c(a) and storing the value of c(a) in a\n",
    "\n",
    "def c(a):   #defines another function c(a)\n",
    " return a + 2   #returns vakue a+2 to the function\n",
    "\n",
    "b()     #calls the function b() for the first time with initial value of a=0 which returns/update value of a to 2\n",
    "b()     #calls the function b() for the second time with new value of a=2  which returns/updates value of a to 4\n",
    "b()     #calls the function b() for the third time with latest value pf a=4 which returns/updates value of a to 6\n",
    "a       #stores the latest updated value of a\n",
    "print(\"displaying the latest updated value of a = \",a)    #prints the latest updated value of 'a' which in 6 in this case"
   ]
  },
  {
   "cell_type": "markdown",
   "id": "b6235907",
   "metadata": {},
   "source": [
    "# Question 2"
   ]
  },
  {
   "cell_type": "code",
   "execution_count": 2,
   "id": "0961c268",
   "metadata": {},
   "outputs": [
    {
     "name": "stdout",
     "output_type": "stream",
     "text": [
      "\n",
      "**************************Question 2*******************************\n",
      "\n",
      "\n",
      "checking file prbm_set2_q1.py present or not...\n",
      "\n",
      "File Filelength.txt is found...!\n",
      "\n",
      " The file length =  123\n",
      "None\n",
      "\n",
      "checking if file idterm.py is present or not...\n",
      "\n",
      "error...! file idterm.py not found..!\n"
     ]
    }
   ],
   "source": [
    "print(\"\\n**************************Question 2*******************************\\n\")\n",
    "\n",
    "def file_length(file_name):\n",
    "    try:\n",
    "        file = open(file_name)\n",
    "        contents = file.read()\n",
    "        file.close()\n",
    "        print(\"File \"+ file_name +\" is found...!\")\n",
    "        print(\"\\n The file length = \",len(contents))\n",
    "    except FileNotFoundError:\n",
    "        return \"error...! file \"+ file_name +\" not found..!\"\n",
    "\n",
    "#if file is present in the folder :\n",
    "print(\"\\nchecking file prbm_set2_q1.py present or not...\\n\")\n",
    "print(file_length('Filelength.txt'))\n",
    "\n",
    "#if file is not present in  the folder :\n",
    "print(\"\\nchecking if file idterm.py is present or not...\\n\")\n",
    "print(file_length('idterm.py'))\n",
    "\n"
   ]
  },
  {
   "cell_type": "markdown",
   "id": "acd4572f",
   "metadata": {},
   "source": [
    "# Question 3\n"
   ]
  },
  {
   "cell_type": "code",
   "execution_count": 3,
   "id": "a1fd9497",
   "metadata": {},
   "outputs": [
    {
     "name": "stdout",
     "output_type": "stream",
     "text": [
      "\n",
      "**************************Question 3*******************************\n",
      "\n",
      "class Marsupial contains : ['doll', 'firetruck', 'kitten'] \n",
      "\n",
      "I am a Kangaroo located at coordinates (0,0)\n",
      "\n",
      "subclass kangaroo contains :  ['doll', 'firetruck', 'kitten', 'doll', 'firetruck', 'kitten'] \n",
      "\n",
      "I am a Kangaroo located at coordinates (3,0)\n",
      "\n"
     ]
    }
   ],
   "source": [
    "\n",
    "\n",
    "print(\"\\n**************************Question 3*******************************\\n\")\n",
    "\n",
    "\n",
    "class Marsupial:\n",
    "    lst=[]\n",
    "    def init(self): \n",
    "        self.lst = []\n",
    "        \n",
    "    #Add to list\n",
    "    def put_in_pouch(self, item):\n",
    "        self.lst.append(item)\n",
    "        \n",
    "    #Return List\n",
    "    def pouch_contents(self):\n",
    "        return self.lst\n",
    "\n",
    "class Kangaroo(Marsupial):\n",
    "\n",
    "    def __init__(self,x,y):\n",
    "\n",
    "            Marsupial.__init__(self)\n",
    "\n",
    "            self.x = x\n",
    "\n",
    "            self.y = y\n",
    "\n",
    "    def jump(self,dx,dy):\n",
    "\n",
    "        self.x += dx\n",
    "\n",
    "        self.y += dy\n",
    "\n",
    "    def __str__(self):\n",
    "\n",
    "        return 'I am a Kangaroo located at coordinates ({},{})'.format(self.x,self.y)+'\\n'\n",
    "\n",
    "m = Marsupial() \n",
    "m.put_in_pouch('doll') \n",
    "m.put_in_pouch('firetruck') \n",
    "m.put_in_pouch('kitten') \n",
    "print(\"class Marsupial contains :\",m.pouch_contents(),\"\\n\")\n",
    "\n",
    "k = Kangaroo(0,0) \n",
    "print(k) \n",
    "k.put_in_pouch('doll')\n",
    "k.put_in_pouch('firetruck') \n",
    "k.put_in_pouch('kitten') \n",
    "print(\"subclass kangaroo contains : \",k.pouch_contents(),\"\\n\") \n",
    "k.jump(1,0) \n",
    "k.jump(1,0)\n",
    "k.jump(1,0)\n",
    "print(k)"
   ]
  },
  {
   "cell_type": "markdown",
   "id": "6476742c",
   "metadata": {},
   "source": [
    "# Question 4"
   ]
  },
  {
   "cell_type": "code",
   "execution_count": 4,
   "id": "6abc2f51",
   "metadata": {},
   "outputs": [
    {
     "name": "stdout",
     "output_type": "stream",
     "text": [
      "\n",
      "**************************Question 4*******************************\n",
      "\n",
      "entre any number to get collatz sequence : 10\n",
      "10\n",
      "5\n",
      "16\n",
      "8\n",
      "4\n",
      "2\n",
      "1\n"
     ]
    }
   ],
   "source": [
    "\n",
    "print(\"\\n**************************Question 4*******************************\\n\")\n",
    "\n",
    "def collatz(x):\n",
    "    #print value of x \n",
    "    print(x)\n",
    "    if x==1:\n",
    "        return\n",
    "    elif x%2==0:\n",
    "        return collatz(x//2)\n",
    "    else:\n",
    "        return collatz((x*3)+1)\n",
    "\n",
    "x=int(input(\"entre any number to get collatz sequence : \"))\n",
    "collatz(x)\n"
   ]
  },
  {
   "cell_type": "markdown",
   "id": "bac55eb5",
   "metadata": {},
   "source": [
    "# Question 5"
   ]
  },
  {
   "cell_type": "code",
   "execution_count": 5,
   "id": "509c7f92",
   "metadata": {},
   "outputs": [
    {
     "name": "stdout",
     "output_type": "stream",
     "text": [
      "\n",
      "**************************Question 5*******************************\n",
      "\n",
      "entre any integer to get its binary representation of integer : 6\n",
      "in binary :  110\n"
     ]
    }
   ],
   "source": [
    "\n",
    "print(\"\\n**************************Question 5*******************************\\n\")\n",
    "\n",
    "def binary( n ):\n",
    "    if n == 0:\n",
    "        return 0\n",
    "    else:\n",
    "       \n",
    "        return  n % 2 + 10 * binary(int(n // 2))\n",
    "\n",
    "n = int(input(\"entre any integer to get its binary representation of integer : \"))\n",
    "print(\"in binary : \",binary(n))"
   ]
  },
  {
   "cell_type": "markdown",
   "id": "e540a076",
   "metadata": {},
   "source": [
    "# Question 6"
   ]
  },
  {
   "cell_type": "code",
   "execution_count": 6,
   "id": "ffe5fc7c",
   "metadata": {},
   "outputs": [
    {
     "name": "stdout",
     "output_type": "stream",
     "text": [
      "\n",
      "**************************Question 6*******************************\n",
      "\n",
      "W3C Mission\n",
      "\n",
      "\t\n",
      " Principles\n",
      " \n",
      " \n",
      "\n",
      "\n",
      "\n",
      " \n",
      "\n"
     ]
    }
   ],
   "source": [
    "print(\"\\n**************************Question 6*******************************\\n\")\n",
    "\n",
    "\"\"\"help - https://docs.python.org/3/library/html.parser.html\"\"\"\n",
    "import re\n",
    "from html.parser import HTMLParser\n",
    "infile = open('w3c.html')\n",
    "content = infile.read() \n",
    "infile.close()\n",
    "\n",
    "class HeadingParser(HTMLParser):\n",
    "    def handle_starttag(self, tag, attrs):\n",
    "        global getHeading\n",
    "        match = re.match(r'h(\\d)', tag, re.I) \n",
    "        if match: getHeading = int(match.group(1))\n",
    "            \n",
    "    def handle_endtag(self, tag):\n",
    "        match = re.match(r'h(\\d)', tag, re.I)\n",
    "        if match: getHeading = 0\n",
    "\n",
    "    def handle_data(self, data):\n",
    "        if getHeading > 0:\n",
    "            tab = getHeading - 1\n",
    "            out = \" \"*tab\n",
    "            print(out+data)\n",
    "            \n",
    "getHeading = 0\n",
    "hp = HeadingParser()\n",
    "hp.feed(content)"
   ]
  },
  {
   "cell_type": "markdown",
   "id": "2004e3ff",
   "metadata": {},
   "source": [
    "# Question 7"
   ]
  },
  {
   "cell_type": "code",
   "execution_count": 7,
   "id": "11a1b60d",
   "metadata": {},
   "outputs": [
    {
     "name": "stdout",
     "output_type": "stream",
     "text": [
      "\n",
      "**************************Question 7*******************************\n",
      "\n",
      "http://reed.cs.depaul.edu/lperkovic/csc242/test1.html\n"
     ]
    }
   ],
   "source": [
    "print(\"\\n**************************Question 7*******************************\\n\")\n",
    "\n",
    "import requests\n",
    "\n",
    "from bs4 import BeautifulSoup   \n",
    "\n",
    "def webdir(url, depth, indent):\n",
    "    resp = requests.get(url)\n",
    "    print(url)\n",
    "    if(depth == indent):\n",
    "        return\n",
    "    soup = BeautifulSoup(resp.text, 'html.parser')  \n",
    "    for link in soup.findAll('a'):\n",
    "        new_link = link.get('href')\n",
    "        if(new_link.startswith('https')):\n",
    "            webdir(new_link, depth, indent+1)\n",
    "\n",
    "webdir('http://reed.cs.depaul.edu/lperkovic/csc242/test1.html', 2, 0)\n",
    "        "
   ]
  },
  {
   "cell_type": "markdown",
   "id": "44a9fc7a",
   "metadata": {},
   "source": [
    "# Question 8"
   ]
  },
  {
   "cell_type": "code",
   "execution_count": 30,
   "id": "8bf0d15d",
   "metadata": {},
   "outputs": [
    {
     "name": "stdout",
     "output_type": "stream",
     "text": [
      "Requirement already satisfied: ipython-sql in /Users/saurabhmehanti/anaconda3/lib/python3.10/site-packages (0.5.0)\n",
      "Requirement already satisfied: sqlalchemy>=2.0 in /Users/saurabhmehanti/anaconda3/lib/python3.10/site-packages (from ipython-sql) (2.0.21)\n",
      "Requirement already satisfied: six in /Users/saurabhmehanti/anaconda3/lib/python3.10/site-packages (from ipython-sql) (1.16.0)\n",
      "Requirement already satisfied: ipython in /Users/saurabhmehanti/anaconda3/lib/python3.10/site-packages (from ipython-sql) (8.10.0)\n",
      "Requirement already satisfied: sqlparse in /Users/saurabhmehanti/anaconda3/lib/python3.10/site-packages (from ipython-sql) (0.4.4)\n",
      "Requirement already satisfied: prettytable in /Users/saurabhmehanti/anaconda3/lib/python3.10/site-packages (from ipython-sql) (3.9.0)\n",
      "Requirement already satisfied: ipython-genutils in /Users/saurabhmehanti/anaconda3/lib/python3.10/site-packages (from ipython-sql) (0.2.0)\n",
      "Requirement already satisfied: greenlet!=0.4.17 in /Users/saurabhmehanti/anaconda3/lib/python3.10/site-packages (from sqlalchemy>=2.0->ipython-sql) (2.0.1)\n",
      "Requirement already satisfied: typing-extensions>=4.2.0 in /Users/saurabhmehanti/anaconda3/lib/python3.10/site-packages (from sqlalchemy>=2.0->ipython-sql) (4.4.0)\n",
      "Requirement already satisfied: pygments>=2.4.0 in /Users/saurabhmehanti/anaconda3/lib/python3.10/site-packages (from ipython->ipython-sql) (2.11.2)\n",
      "Requirement already satisfied: jedi>=0.16 in /Users/saurabhmehanti/anaconda3/lib/python3.10/site-packages (from ipython->ipython-sql) (0.18.1)\n",
      "Requirement already satisfied: stack-data in /Users/saurabhmehanti/anaconda3/lib/python3.10/site-packages (from ipython->ipython-sql) (0.2.0)\n",
      "Requirement already satisfied: traitlets>=5 in /Users/saurabhmehanti/anaconda3/lib/python3.10/site-packages (from ipython->ipython-sql) (5.7.1)\n",
      "Requirement already satisfied: prompt-toolkit<3.1.0,>=3.0.30 in /Users/saurabhmehanti/anaconda3/lib/python3.10/site-packages (from ipython->ipython-sql) (3.0.36)\n",
      "Requirement already satisfied: appnope in /Users/saurabhmehanti/anaconda3/lib/python3.10/site-packages (from ipython->ipython-sql) (0.1.2)\n",
      "Requirement already satisfied: matplotlib-inline in /Users/saurabhmehanti/anaconda3/lib/python3.10/site-packages (from ipython->ipython-sql) (0.1.6)\n",
      "Requirement already satisfied: backcall in /Users/saurabhmehanti/anaconda3/lib/python3.10/site-packages (from ipython->ipython-sql) (0.2.0)\n",
      "Requirement already satisfied: pickleshare in /Users/saurabhmehanti/anaconda3/lib/python3.10/site-packages (from ipython->ipython-sql) (0.7.5)\n",
      "Requirement already satisfied: decorator in /Users/saurabhmehanti/anaconda3/lib/python3.10/site-packages (from ipython->ipython-sql) (5.1.1)\n",
      "Requirement already satisfied: pexpect>4.3 in /Users/saurabhmehanti/anaconda3/lib/python3.10/site-packages (from ipython->ipython-sql) (4.8.0)\n",
      "Requirement already satisfied: wcwidth in /Users/saurabhmehanti/anaconda3/lib/python3.10/site-packages (from prettytable->ipython-sql) (0.2.5)\n",
      "Requirement already satisfied: parso<0.9.0,>=0.8.0 in /Users/saurabhmehanti/anaconda3/lib/python3.10/site-packages (from jedi>=0.16->ipython->ipython-sql) (0.8.3)\n",
      "Requirement already satisfied: ptyprocess>=0.5 in /Users/saurabhmehanti/anaconda3/lib/python3.10/site-packages (from pexpect>4.3->ipython->ipython-sql) (0.7.0)\n",
      "Requirement already satisfied: asttokens in /Users/saurabhmehanti/anaconda3/lib/python3.10/site-packages (from stack-data->ipython->ipython-sql) (2.0.5)\n",
      "Requirement already satisfied: executing in /Users/saurabhmehanti/anaconda3/lib/python3.10/site-packages (from stack-data->ipython->ipython-sql) (0.8.3)\n",
      "Requirement already satisfied: pure-eval in /Users/saurabhmehanti/anaconda3/lib/python3.10/site-packages (from stack-data->ipython->ipython-sql) (0.2.2)\n",
      "\u001b[31mERROR: Could not find a version that satisfies the requirement sqlite3 (from versions: none)\u001b[0m\u001b[31m\n",
      "\u001b[0m\u001b[31mERROR: No matching distribution found for sqlite3\u001b[0m\u001b[31m\n",
      "\u001b[0mCollecting pysqlite3\n",
      "  Downloading pysqlite3-0.5.2.tar.gz (40 kB)\n",
      "\u001b[2K     \u001b[90m━━━━━━━━━━━━━━━━━━━━━━━━━━━━━━━━━━━━━━━━\u001b[0m \u001b[32m40.7/40.7 kB\u001b[0m \u001b[31m1.2 MB/s\u001b[0m eta \u001b[36m0:00:00\u001b[0m\n",
      "\u001b[?25h  Preparing metadata (setup.py) ... \u001b[?25ldone\n",
      "\u001b[?25hBuilding wheels for collected packages: pysqlite3\n",
      "  Building wheel for pysqlite3 (setup.py) ... \u001b[?25ldone\n",
      "\u001b[?25h  Created wheel for pysqlite3: filename=pysqlite3-0.5.2-cp310-cp310-macosx_10_9_x86_64.whl size=36104 sha256=222340d2efea30aae8cd4361a4a040756bacc1a5e3e78027e20089d2a180e33b\n",
      "  Stored in directory: /Users/saurabhmehanti/Library/Caches/pip/wheels/e2/21/91/98f59fb7a45dc523eacae9435e10a05218b1d1fcd7251adbbd\n",
      "Successfully built pysqlite3\n",
      "Installing collected packages: pysqlite3\n",
      "Successfully installed pysqlite3-0.5.2\n"
     ]
    }
   ],
   "source": [
    "!pip install ipython-sql\n",
    "!pip install sqlite3\n",
    "!pip install pysqlite3"
   ]
  },
  {
   "cell_type": "markdown",
   "id": "5d696972",
   "metadata": {},
   "source": [
    "#### a) All the temperature data"
   ]
  },
  {
   "cell_type": "code",
   "execution_count": 34,
   "id": "82b590e1",
   "metadata": {},
   "outputs": [
    {
     "data": {
      "text/plain": [
       "[('Mumbai', 'India', 'Winter', 24.8, 5.9),\n",
       " ('Mumbai', 'India', 'Spring', 28.4, 16.2),\n",
       " ('Mumbai', 'India', 'Summer', 27.9, 1549.4),\n",
       " ('Mumbai', 'India', 'Fall', 27.6, 346.0),\n",
       " ('London', 'United Kindom', 'Winter', 4.2, 207.7),\n",
       " ('London', 'United Kindom', 'Spring', 8.3, 169.6),\n",
       " ('London', 'United Kindom', 'Summer', 15.7, 157.0),\n",
       " ('London', 'United Kindom', 'Fall', 10.4, 218.5),\n",
       " ('Cairo', 'Egypt', 'Winter', 13.6, 16.5),\n",
       " ('Cairo', 'Egypt', 'Spring', 20.7, 6.5),\n",
       " ('Cairo', 'Egypt', 'Summer', 27.7, 0.1),\n",
       " ('Cairo', 'Egypt', 'Fall', 22.2, 4.5)]"
      ]
     },
     "execution_count": 34,
     "metadata": {},
     "output_type": "execute_result"
    }
   ],
   "source": [
    "import sqlite3\n",
    "x=sqlite3.connect('tempInfo.db')\n",
    "table=x.cursor()\n",
    "table.execute(\"CREATE TABLE IF NOT EXISTS tempInfo (City text, Country text, Season text, Temperature double, Rainfall double)\")\n",
    "table.execute(\"INSERT INTO tempInfo VALUES ('Mumbai', 'India', 'Winter', 24.8, 5.9), ('Mumbai','India', 'Spring', 28.4, 16.2), ('Mumbai','India', 'Summer', 27.9, 1549.4), ('Mumbai','India', 'Fall', 27.6, 346.0)\")\n",
    "table.execute(\"INSERT INTO tempInfo VALUES ('London', 'United Kindom', 'Winter', 4.2, 207.7), ('London', 'United Kindom', 'Spring', 8.3, 169.6), ('London', 'United Kindom', 'Summer', 15.7, 157.0), ('London', 'United Kindom', 'Fall', 10.4, 218.5)\")\n",
    "table.execute(\"INSERT INTO tempInfo VALUES ('Cairo', 'Egypt', 'Winter', 13.6, 16.5), ('Cairo', 'Egypt', 'Spring', 20.7, 6.5), ('Cairo', 'Egypt', 'Summer', 27.7, 0.1), ('Cairo', 'Egypt', 'Fall', 22.2, 4.5)\")\n",
    "\n",
    "table.execute(\"SELECT * FROM tempInfo\")\n",
    "table.fetchall()"
   ]
  },
  {
   "cell_type": "code",
   "execution_count": 37,
   "id": "f1f2a28a",
   "metadata": {},
   "outputs": [
    {
     "name": "stdout",
     "output_type": "stream",
     "text": [
      "(24.8,)\n",
      "(28.4,)\n",
      "(27.9,)\n",
      "(27.6,)\n",
      "(4.2,)\n",
      "(8.3,)\n",
      "(15.7,)\n",
      "(10.4,)\n",
      "(13.6,)\n",
      "(20.7,)\n",
      "(27.7,)\n",
      "(22.2,)\n"
     ]
    }
   ],
   "source": [
    "table.execute(\"SELECT Temperature FROM tempInfo\")\n",
    "for i in table:\n",
    "    print(i)"
   ]
  },
  {
   "cell_type": "markdown",
   "id": "b3ed6fa3",
   "metadata": {},
   "source": [
    "#### b) All the cities, but without repetition"
   ]
  },
  {
   "cell_type": "code",
   "execution_count": 44,
   "id": "285a204c",
   "metadata": {},
   "outputs": [
    {
     "name": "stdout",
     "output_type": "stream",
     "text": [
      "('Mumbai',)\n",
      "('London',)\n",
      "('Cairo',)\n"
     ]
    }
   ],
   "source": [
    "table.execute(\"SELECT DISTINCT City from tempInfo\")\n",
    "for j in table:\n",
    "    print(j)"
   ]
  },
  {
   "cell_type": "markdown",
   "id": "1c44276f",
   "metadata": {},
   "source": [
    "#### c) All the records for India."
   ]
  },
  {
   "cell_type": "code",
   "execution_count": 45,
   "id": "59693720",
   "metadata": {},
   "outputs": [
    {
     "name": "stdout",
     "output_type": "stream",
     "text": [
      "('Mumbai', 'India', 'Winter', 24.8, 5.9)\n",
      "('Mumbai', 'India', 'Spring', 28.4, 16.2)\n",
      "('Mumbai', 'India', 'Summer', 27.9, 1549.4)\n",
      "('Mumbai', 'India', 'Fall', 27.6, 346.0)\n"
     ]
    }
   ],
   "source": [
    "table.execute(\"SELECT * from tempInfo WHERE Country='India'\")\n",
    "for k in table:\n",
    "    print(k)"
   ]
  },
  {
   "cell_type": "markdown",
   "id": "84c58bb1",
   "metadata": {},
   "source": [
    "#### d) All the Fall records"
   ]
  },
  {
   "cell_type": "code",
   "execution_count": 46,
   "id": "20bef99f",
   "metadata": {},
   "outputs": [
    {
     "name": "stdout",
     "output_type": "stream",
     "text": [
      "('Mumbai', 'India', 'Fall', 27.6, 346.0)\n",
      "('London', 'United Kindom', 'Fall', 10.4, 218.5)\n",
      "('Cairo', 'Egypt', 'Fall', 22.2, 4.5)\n"
     ]
    }
   ],
   "source": [
    "table.execute(\"SELECT * from tempInfo WHERE Season='Fall'\")\n",
    "for l in table:\n",
    "    print(l)"
   ]
  },
  {
   "cell_type": "markdown",
   "id": "2e4e8ee8",
   "metadata": {},
   "source": [
    "#### e) The city, country, and season for which the average rainfall is between 200  and 400 millimeters."
   ]
  },
  {
   "cell_type": "code",
   "execution_count": 47,
   "id": "2978bb4f",
   "metadata": {},
   "outputs": [
    {
     "name": "stdout",
     "output_type": "stream",
     "text": [
      "('London', 'United Kindom', 'Winter', 207.7)\n",
      "('London', 'United Kindom', 'Fall', 218.5)\n",
      "('Mumbai', 'India', 'Fall', 346.0)\n"
     ]
    }
   ],
   "source": [
    "table.execute(\"SELECT City, Country, Season, AVG(Rainfall) FROM tempInfo GROUP BY Rainfall Having AVG(Rainfall BETWEEN 200 and 400)\")\n",
    "for m in table:\n",
    "    print(m)"
   ]
  },
  {
   "cell_type": "markdown",
   "id": "038a34e0",
   "metadata": {},
   "source": [
    "#### f) The city and country for which the average Fall temperature is above 20 degrees, in increasing temperature order."
   ]
  },
  {
   "cell_type": "code",
   "execution_count": 48,
   "id": "fc632b5e",
   "metadata": {},
   "outputs": [
    {
     "name": "stdout",
     "output_type": "stream",
     "text": [
      "('Cairo', 'Egypt', 22.2)\n",
      "('Mumbai', 'India', 27.6)\n"
     ]
    }
   ],
   "source": [
    "table.execute(\"SELECT City, Country, AVG(Temperature) FROM tempInfo WHERE Season='Fall' GROUP by Temperature HAVING AVG(Temperature) > 20 Order BY AVG(Temperature) ASC\")\n",
    "for n in table:\n",
    "    print(n)"
   ]
  },
  {
   "cell_type": "markdown",
   "id": "21522cbf",
   "metadata": {},
   "source": [
    "#### g) The total annual rainfall for Cairo."
   ]
  },
  {
   "cell_type": "code",
   "execution_count": 50,
   "id": "fcbff160",
   "metadata": {},
   "outputs": [
    {
     "name": "stdout",
     "output_type": "stream",
     "text": [
      "('Cairo', 27.6)\n"
     ]
    }
   ],
   "source": [
    "table.execute(\"SELECT City, SUM(Rainfall) FROM tempInfo WHERE City = 'Cairo'\")\n",
    "for o in table:\n",
    "    print(o)"
   ]
  },
  {
   "cell_type": "markdown",
   "id": "0a204c48",
   "metadata": {},
   "source": [
    "#### h) The total rainfall for each season."
   ]
  },
  {
   "cell_type": "code",
   "execution_count": 51,
   "id": "4eab1910",
   "metadata": {},
   "outputs": [
    {
     "name": "stdout",
     "output_type": "stream",
     "text": [
      "('Fall', 569.0)\n",
      "('Spring', 192.29999999999998)\n",
      "('Summer', 1706.5)\n",
      "('Winter', 230.1)\n"
     ]
    }
   ],
   "source": [
    "table.execute(\"SELECT Season, SUM(Rainfall) FROM tempInfo GROUP BY Season\")\n",
    "for p in table:\n",
    "    print(p)"
   ]
  },
  {
   "cell_type": "markdown",
   "id": "86ca28f1",
   "metadata": {},
   "source": [
    "# Question 9. \n",
    "\n",
    "Write list comprehension expressions that use list words and generate the following \n",
    "lists:\n"
   ]
  },
  {
   "cell_type": "code",
   "execution_count": 52,
   "id": "465d42e3",
   "metadata": {},
   "outputs": [
    {
     "name": "stdout",
     "output_type": "stream",
     "text": [
      "\n",
      "**************************Question 9*******************************\n",
      "\n",
      "Ans a).\n",
      " ['THE', 'QUICK', 'BROWN', 'FOX', 'JUMPS', 'OVER', 'THE', 'LAZY', 'DOG']\n",
      "\n",
      "\n",
      "Ans b).\n",
      " ['the', 'quick', 'brown', 'fox', 'jumps', 'over', 'the', 'lazy', 'dog']\n",
      "\n",
      "\n",
      "Ans c).\n",
      " [3, 5, 5, 3, 5, 4, 3, 4, 3]\n",
      "\n",
      "\n",
      "Ans d).\n",
      " [['THE', 'the', 3], ['QUICK', 'quick', 5], ['BROWN', 'brown', 5], ['FOX', 'fox', 3], ['JUMPS', 'jumps', 5], ['OVER', 'over', 4], ['THE', 'the', 3], ['LAZY', 'lazy', 4], ['DOG', 'dog', 3]]\n",
      "\n",
      "\n",
      "Ans e).\n",
      " ['quick', 'brown', 'jumps', 'over', 'lazy']\n"
     ]
    }
   ],
   "source": [
    "\n",
    "print(\"\\n**************************Question 9*******************************\\n\")\n",
    "\n",
    "\n",
    "\n",
    "words = [\"The\", \"quick\", \"brown\", \"fox\", \"jumps\", \"over\", \"the\", \"lazy\", \"dog\"]\n",
    "\n",
    "# a) Converting words into upper case words\n",
    "UpperWords = [word.upper() for word in words]\n",
    "print(\"Ans a).\\n\",UpperWords)\n",
    "print(\"\\n\")\n",
    "\n",
    "\n",
    "# b) Converting words into lower case words\n",
    "\n",
    "LowerWords = [word.lower() for word in words]\n",
    "print(\"Ans b).\\n\",LowerWords)\n",
    "print(\"\\n\")\n",
    "\n",
    "\n",
    "# c) calculating the list of length of words in list words\n",
    "\n",
    "LengthWords = []\n",
    "for w in words:\n",
    "    LengthWords.append(len(w))     \n",
    "print(\"Ans c).\\n\",LengthWords)\n",
    "print(\"\\n\")\n",
    "\n",
    "\n",
    "\"\"\"d) the list containing a list for every word of list words, where each list contains the word in uppercase and lowercase and \n",
    "the length of the word\"\"\"\n",
    "\n",
    "initializeCounterValue = 0\n",
    "single_List_Array = []\n",
    "    \n",
    "for j in words:\n",
    "    single_List_Array.append(UpperWords[initializeCounterValue])\n",
    "    single_List_Array.append(LowerWords[initializeCounterValue])\n",
    "    single_List_Array.append(LengthWords[initializeCounterValue])\n",
    "    initializeCounterValue = initializeCounterValue + 1\n",
    "\n",
    "delimiterVariableLimit = 3\n",
    "resultArray = [single_List_Array[additor:additor+delimiterVariableLimit] for additor in range(0, len(single_List_Array), delimiterVariableLimit)]\n",
    "print(\"Ans d).\\n\",resultArray)\n",
    "print(\"\\n\")\n",
    "\n",
    "# e) finding the list of words in list words containing 4 or more characters in it\n",
    "\n",
    "def wordString(k, str):    \n",
    "    string = []     \n",
    "    text = str.split(\" \")     \n",
    "    for x in text:         \n",
    "        if len(x) >= k:            \n",
    "            string.append(x)\n",
    "    return string\n",
    "    \n",
    "result_list = [''.join([str(c) for c in lst]) for lst in words]\n",
    "result_string = ' '.join(result_list)\n",
    "requiredCharacterLength = 4\n",
    "print(\"Ans e).\\n\",wordString(requiredCharacterLength, result_string))"
   ]
  },
  {
   "cell_type": "code",
   "execution_count": null,
   "id": "5edbca55",
   "metadata": {},
   "outputs": [],
   "source": []
  },
  {
   "cell_type": "code",
   "execution_count": null,
   "id": "4e16cfbe",
   "metadata": {},
   "outputs": [],
   "source": []
  }
 ],
 "metadata": {
  "kernelspec": {
   "display_name": "Python 3 (ipykernel)",
   "language": "python",
   "name": "python3"
  },
  "language_info": {
   "codemirror_mode": {
    "name": "ipython",
    "version": 3
   },
   "file_extension": ".py",
   "mimetype": "text/x-python",
   "name": "python",
   "nbconvert_exporter": "python",
   "pygments_lexer": "ipython3",
   "version": "3.10.9"
  }
 },
 "nbformat": 4,
 "nbformat_minor": 5
}
